{
 "cells": [
  {
   "cell_type": "code",
   "execution_count": 1,
   "metadata": {},
   "outputs": [],
   "source": [
    "%load_ext autoreload\n",
    "%autoreload 2\n",
    "import sys\n",
    "import os\n",
    "\n",
    "import numpy as np\n",
    "\n",
    "import matplotlib.pyplot as plt\n",
    "\n",
    "import cartopy.crs as ccrs\n",
    "import cartopy.feature as cfeature\n",
    "from cartopy.mpl.gridliner import LONGITUDE_FORMATTER, LATITUDE_FORMATTER\n",
    "\n",
    "import _pickle as cPickle\n",
    "import json\n",
    "\n",
    "# sys.path.insert(1, '/home/kbrennan/cell_tracker/')\n",
    "# from cell_tracker import Cell\n",
    "\n",
    "sys.path.insert(1, '/home/kbrennan/phd/scripts')\n",
    "\n",
    "import plotting.plot_utils as pu\n",
    "pu.figure_setup()"
   ]
  },
  {
   "cell_type": "code",
   "execution_count": 2,
   "metadata": {},
   "outputs": [],
   "source": [
    "root = '/home/kbrennan/phd/data/case_20210628/tracks_new'\n",
    "member = '005'\n",
    "\n",
    "path_json = os.path.join(root, f'cell_tracks_{member}.json')\n",
    "path_pickle = os.path.join(root, f'cells_{member}.pickle')\n",
    "\n",
    "with open(path_json, 'r') as f:\n",
    "    data_j = json.load(f)\n",
    "\n",
    "with open(path_pickle, 'rb') as f:\n",
    "    cells = cPickle.load(f)\n",
    "\n",
    "cells_j = dat_j['cell_data']"
   ]
  },
  {
   "cell_type": "code",
   "execution_count": 3,
   "metadata": {},
   "outputs": [
    {
     "name": "stdout",
     "output_type": "stream",
     "text": [
      "456\n",
      "456\n"
     ]
    }
   ],
   "source": [
    "print(len(cells))\n",
    "print(len(cells_j))"
   ]
  },
  {
   "cell_type": "code",
   "execution_count": 4,
   "metadata": {},
   "outputs": [
    {
     "data": {
      "text/plain": [
       "[numpy.datetime64('2021-06-28T12:20:00.000000000'),\n",
       " numpy.datetime64('2021-06-28T12:25:00.000000000'),\n",
       " numpy.datetime64('2021-06-28T12:30:00.000000000'),\n",
       " numpy.datetime64('2021-06-28T12:35:00.000000000')]"
      ]
     },
     "execution_count": 4,
     "metadata": {},
     "output_type": "execute_result"
    }
   ],
   "source": [
    "cells[30].datelist"
   ]
  },
  {
   "cell_type": "code",
   "execution_count": 6,
   "metadata": {},
   "outputs": [],
   "source": [
    "# check if there are gaps in the datelist\n",
    "for cell in cells:\n",
    "    # figure out wether there is a gap in the cell datelist\n",
    "    datelist = cell.datelist\n",
    "    delta_t = np.diff(datelist)\n",
    "    gap = np.where(delta_t != np.timedelta64(5, 'm'))[0]\n",
    "    if len(gap)> 0:\n",
    "        for g in gap:\n",
    "            print(cell.cell_id,datelist[g], datelist[g+1])"
   ]
  },
  {
   "cell_type": "code",
   "execution_count": 8,
   "metadata": {},
   "outputs": [
    {
     "data": {
      "text/plain": [
       "['2021-06-28T06:00',\n",
       " '2021-06-28T06:05',\n",
       " '2021-06-28T06:10',\n",
       " '2021-06-28T06:15']"
      ]
     },
     "execution_count": 8,
     "metadata": {},
     "output_type": "execute_result"
    }
   ],
   "source": [
    "datelist"
   ]
  }
 ],
 "metadata": {
  "kernelspec": {
   "display_name": "base",
   "language": "python",
   "name": "python3"
  },
  "language_info": {
   "codemirror_mode": {
    "name": "ipython",
    "version": 3
   },
   "file_extension": ".py",
   "mimetype": "text/x-python",
   "name": "python",
   "nbconvert_exporter": "python",
   "pygments_lexer": "ipython3",
   "version": "3.9.10"
  }
 },
 "nbformat": 4,
 "nbformat_minor": 2
}
