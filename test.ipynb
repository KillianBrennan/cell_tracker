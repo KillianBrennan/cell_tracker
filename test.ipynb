{
 "cells": [
  {
   "cell_type": "code",
   "execution_count": 10,
   "metadata": {},
   "outputs": [
    {
     "name": "stdout",
     "output_type": "stream",
     "text": [
      "The autoreload extension is already loaded. To reload it, use:\n",
      "  %reload_ext autoreload\n"
     ]
    }
   ],
   "source": [
    "%load_ext autoreload\n",
    "%autoreload 2\n",
    "\n",
    "import os\n",
    "import sys\n",
    "import numpy as np\n",
    "import pandas as pd\n",
    "import xarray as xr\n",
    "\n",
    "import json\n",
    "\n",
    "import _pickle as cPickle\n"
   ]
  },
  {
   "cell_type": "code",
   "execution_count": 36,
   "metadata": {},
   "outputs": [
    {
     "name": "stdout",
     "output_type": "stream",
     "text": [
      "0.23 7 31\n",
      "0.41 15 37\n",
      "0.22 11 50\n",
      "0.59 13 22\n",
      "0.54 37 69\n",
      "0.69 9 13\n",
      "0.71 10 14\n",
      "0.25 17 68\n",
      "0.37 7 19\n",
      "1.54 20 13\n",
      "0.44 12 27\n",
      "0.1 3 30\n",
      "0.08 4 51\n",
      "0.04 2 53\n",
      "0.3 10 33\n",
      "0.46 25 54\n",
      "1.02 49 48\n",
      "0.67 34 51\n",
      "1.09 123 113\n",
      "0.86 125 145\n",
      "0.95 146 153\n"
     ]
    }
   ],
   "source": [
    "# load json file\n",
    "for day in range(20210601,20210622):\n",
    "    day = str(day)\n",
    "    with open('/home/kbrennan/phd/data/climate/tracks/present/test/cell_tracks_'+day+'.json', 'r') as f:\n",
    "        js_new = json.load(f)\n",
    "\n",
    "    with open('/home/kbrennan/phd/data/climate/tracks/present/cell_tracks_'+day+'.json', 'r') as f:\n",
    "        js_old = json.load(f)\n",
    "\n",
    "    ds = xr.open_dataset('/home/kbrennan/phd/data/climate/tracks/present/test/cell_swaths_'+day+'.nc')\n",
    "\n",
    "    print(np.round(len(js_new['cell_data'])/len(js_old['cell_data']),2),len(js_new['cell_data']),len(js_old['cell_data']))"
   ]
  },
  {
   "cell_type": "code",
   "execution_count": 19,
   "metadata": {},
   "outputs": [
    {
     "data": {
      "text/plain": [
       "<matplotlib.collections.QuadMesh at 0x7f833ea53190>"
      ]
     },
     "execution_count": 19,
     "metadata": {},
     "output_type": "execute_result"
    },
    {
     "data": {
      "image/png": "[encoded data removed]",
      "text/plain": [
       "<Figure size 432x288 with 2 Axes>"
      ]
     },
     "metadata": {
      "needs_background": "light"
     },
     "output_type": "display_data"
    }
   ],
   "source": [
    "ds.cell_swath.max(dim='cell_id').plot()"
   ]
  }
 ],
 "metadata": {
  "kernelspec": {
   "display_name": "base",
   "language": "python",
   "name": "python3"
  },
  "language_info": {
   "codemirror_mode": {
    "name": "ipython",
    "version": 3
   },
   "file_extension": ".py",
   "mimetype": "text/x-python",
   "name": "python",
   "nbconvert_exporter": "python",
   "pygments_lexer": "ipython3",
   "version": "3.9.10"
  }
 },
 "nbformat": 4,
 "nbformat_minor": 2
}
