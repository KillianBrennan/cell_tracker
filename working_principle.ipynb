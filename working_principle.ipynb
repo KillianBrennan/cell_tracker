{
 "cells": [
  {
   "cell_type": "code",
   "execution_count": 1,
   "metadata": {},
   "outputs": [],
   "source": [
    "\"\"\"\n",
    "this script displays some of the working principles of the cell_tracker package and track a synthetic cell\n",
    "\"\"\"\n",
    "\n",
    "%load_ext autoreload\n",
    "%autoreload 2\n",
    "\n",
    "import os\n",
    "import sys\n",
    "import glob\n",
    "from pathlib import Path\n",
    "import numpy as np\n",
    "import pandas as pd\n",
    "import argparse\n",
    "import _pickle as cPickle\n",
    "import datetime as dt\n",
    "from scipy.ndimage import gaussian_filter\n",
    "\n",
    "import matplotlib.pyplot as plt\n",
    "\n",
    "from cell_tracker import Cell, track_cells, label_local_maximas, get_new_labels"
   ]
  },
  {
   "cell_type": "code",
   "execution_count": 2,
   "metadata": {},
   "outputs": [],
   "source": [
    "# setup the synthetic cell data\n",
    "\n",
    "N = 100 # number of gridpoints in x direction\n",
    "M = 100 # number of gridpoints in y direction\n",
    "\n",
    "timesteps = 12\n",
    "timestep = 5 # minutes\n",
    "start_day = pd.to_datetime(\"20210715\", format=\"%Y%m%d\")\n",
    "\n",
    "datelist = pd.date_range(start_day, periods=timesteps, freq=str(timestep)+\"min\")\n",
    "\n",
    "field_static = {}\n",
    "field_static[\"lat\"] = np.linspace(0, 10, N).repeat(M).reshape(N, M)\n",
    "field_static[\"lon\"] = np.linspace(0, 10, M).repeat(N).reshape(M, N).T"
   ]
  },
  {
   "cell_type": "code",
   "execution_count": 75,
   "metadata": {},
   "outputs": [],
   "source": [
    "\n",
    "# create a field with moving cells\n",
    "fields = np.zeros((timesteps, N, M))\n",
    "\n",
    "x_0 = 15 # initial x position\n",
    "y_0 = 15 # initial y position\n",
    "v_x = 5 # x velocity (gridpoints per timestep)\n",
    "v_y = 5 # y velocity (gridpoints per timestep)\n",
    "cell_size_x = 10 # cell size in gridpoints\n",
    "cell_size_y = 10 # cell size in gridpoints\n",
    "intensity = 20 # cell intensity\n",
    "fade = 4 # cell fade\n",
    "# create a gaussian cell\n",
    "cell = np.zeros((cell_size_x, cell_size_y))\n",
    "for i in range(cell_size_x):\n",
    "    for j in range(cell_size_y):\n",
    "        cell[i, j] = intensity * fade*(np.exp(-((i-cell_size_x/2)**2 + (j-cell_size_y/2)**2)/(2*cell_size_x*cell_size_y))-(1-1/fade))\n",
    "\n",
    "for i, date in enumerate(datelist):\n",
    "\n",
    "    # get the current position\n",
    "    x = int(x_0 + v_x * i)\n",
    "    y = int(y_0 + v_y * i)\n",
    "\n",
    "    # add the cell to the field\n",
    "    fields[i, x:x+cell_size_x, y:y+cell_size_y] = cell"
   ]
  },
  {
   "cell_type": "code",
   "execution_count": 76,
   "metadata": {},
   "outputs": [],
   "source": [
    "# track the cells\n",
    "cells = track_cells(fields, datelist, field_static)\n",
    "cell = cells[0]"
   ]
  },
  {
   "cell_type": "code",
   "execution_count": 77,
   "metadata": {},
   "outputs": [
    {
     "name": "stdout",
     "output_type": "stream",
     "text": [
      "[0, 6, 6, 6, 6, 6, 6, 6, 6, 6, 6, 6]\n",
      "[0, 6, 6, 6, 6, 6, 6, 6, 6, 6, 6, 6]\n"
     ]
    }
   ],
   "source": [
    "print(cell.width_gp)\n",
    "print(cell.length_gp)"
   ]
  },
  {
   "cell_type": "code",
   "execution_count": 80,
   "metadata": {},
   "outputs": [
    {
     "data": {
      "text/plain": [
       "[<matplotlib.lines.Line2D at 0x7f3fd55e50a0>]"
      ]
     },
     "execution_count": 80,
     "metadata": {},
     "output_type": "execute_result"
    },
    {
     "data": {
      "image/png": "[encoded data removed]",
      "text/plain": [
       "<Figure size 432x288 with 2 Axes>"
      ]
     },
     "metadata": {
      "needs_background": "light"
     },
     "output_type": "display_data"
    }
   ],
   "source": [
    "# plot the field\n",
    "plt.pcolormesh(fields[:, :, :].max(axis=0),vmin=5)\n",
    "plt.colorbar()\n",
    "plt.gca().set_aspect('equal', adjustable='box')\n",
    "plt.plot(cell.mass_center_y, cell.mass_center_x, \"rx\")"
   ]
  },
  {
   "cell_type": "code",
   "execution_count": 6,
   "metadata": {},
   "outputs": [
    {
     "data": {
      "text/plain": [
       "<matplotlib.image.AxesImage at 0x7f4194b40ee0>"
      ]
     },
     "execution_count": 6,
     "metadata": {},
     "output_type": "execute_result"
    },
    {
     "data": {
      "image/png": "[encoded data removed]",
      "text/plain": [
       "<Figure size 432x288 with 1 Axes>"
      ]
     },
     "metadata": {
      "needs_background": "light"
     },
     "output_type": "display_data"
    }
   ],
   "source": [
    "# setup synthetic data to showcase the segmentation\n",
    "\n",
    "size = 50\n",
    "field = np.zeros((size, size))\n",
    "\n",
    "field[8:12, 20:30] = 25\n",
    "field[12:20, 20:30] = 20\n",
    "field[15:20, 20:30] = 30\n",
    "field[20:25, 20:30] = 15\n",
    "field[25:30, 20:30] = 30\n",
    "field[33:40, 20:30] = 20\n",
    "# field[20:25, 40:45] = 30\n",
    "field = field.T\n",
    "field = gaussian_filter(field, sigma=1)\n",
    "\n",
    "# add some noise\n",
    "plt.imshow(field)"
   ]
  },
  {
   "cell_type": "code",
   "execution_count": 7,
   "metadata": {},
   "outputs": [
    {
     "data": {
      "text/plain": [
       "<matplotlib.image.AxesImage at 0x7f4194aa3f40>"
      ]
     },
     "execution_count": 7,
     "metadata": {},
     "output_type": "execute_result"
    },
    {
     "data": {
      "image/png": "[encoded data removed]",
      "text/plain": [
       "<Figure size 432x288 with 1 Axes>"
      ]
     },
     "metadata": {
      "needs_background": "light"
     },
     "output_type": "display_data"
    }
   ],
   "source": [
    "# show the labeled cell masks\n",
    "\n",
    "kwargs = {'prominence': 5, 'threshold': 10, 'min_distance': 5,'fill_method': 'watershed', 'aura':0}\n",
    "labeled, above_threshold = label_local_maximas(field,**kwargs)\n",
    "new_cell_labels = get_new_labels(labeled, 5)\n",
    "\n",
    "for i in range(size):\n",
    "    for j in range(size):\n",
    "        if labeled[i,j] not in new_cell_labels:\n",
    "            labeled[i,j] = 0\n",
    "plt.imshow(labeled, cmap='tab20')\n"
   ]
  },
  {
   "cell_type": "code",
   "execution_count": 8,
   "metadata": {},
   "outputs": [
    {
     "data": {
      "image/png": "[encoded data removed]",
      "text/plain": [
       "<Figure size 432x288 with 1 Axes>"
      ]
     },
     "metadata": {
      "needs_background": "light"
     },
     "output_type": "display_data"
    }
   ],
   "source": [
    "# visualization (crosssection) of the watershed segmentation\n",
    "plt.plot(field[25,:])\n",
    "plt.ylabel('intensity')\n",
    "plt.xlabel('grid point')\n",
    "colors = ['r', 'g', 'b', 'y', 'c', 'm', 'k', 'w']\n",
    "\n",
    "masks = []\n",
    "for label in new_cell_labels:\n",
    "    masks.append(labeled[25,:]==label)\n",
    "masks[1][22] = True\n",
    "\n",
    "for i,label in enumerate(new_cell_labels):\n",
    "    plt.fill_between(np.arange(size), field[25,:], 0, where=masks[i], color=colors[i], alpha=0.5)"
   ]
  },
  {
   "cell_type": "code",
   "execution_count": 48,
   "metadata": {},
   "outputs": [
    {
     "name": "stdout",
     "output_type": "stream",
     "text": [
      "width in gridpoints:  17\n",
      "length in gridpoints:  14\n"
     ]
    },
    {
     "data": {
      "text/plain": [
       "(0.0, 20.0)"
      ]
     },
     "execution_count": 48,
     "metadata": {},
     "output_type": "execute_result"
    },
    {
     "data": {
      "image/png": "[encoded data removed]",
      "text/plain": [
       "<Figure size 720x360 with 2 Axes>"
      ]
     },
     "metadata": {
      "needs_background": "light"
     },
     "output_type": "display_data"
    }
   ],
   "source": [
    "from scipy.ndimage import  rotate\n",
    "\n",
    "# get size of object along direction of movement\n",
    "size = 20\n",
    "cell_mask = np.zeros((size, size))\n",
    "cell_mask[5:10, 5:15] = 1\n",
    "cell_mask[10:15, 7:8] = 1\n",
    "\n",
    "d_x = -10\n",
    "d_y = 5\n",
    "\n",
    "# rotate the cell mask \n",
    "angle = np.arctan2(d_y, d_x) * 180 / np.pi\n",
    "# print(angle)\n",
    "cell_mask_r = rotate(cell_mask, angle)\n",
    "\n",
    "# threshold the rotated cell mask\n",
    "cell_mask_r[cell_mask_r<0.5] = 0\n",
    "cell_mask_r[cell_mask_r>0.5] = 1\n",
    "\n",
    "width_gp = np.max(np.argmax(cell_mask_r, axis=1))-np.min(np.argmin(cell_mask_r, axis=1))\n",
    "length_gp = np.max(np.argmax(cell_mask_r, axis=0))-np.min(np.argmin(cell_mask_r, axis=0))\n",
    "\n",
    "print(\"width in gridpoints: \", width_gp)\n",
    "print(\"length in gridpoints: \", length_gp)\n",
    "\n",
    "fig, ax = plt.subplots(1,2, figsize=(10,5))\n",
    "\n",
    "ax[0].pcolormesh(cell_mask)\n",
    "ax[0].quiver(size/2,size/2,d_x,d_y, color='r', scale=50)\n",
    "# plot box with size of object)\n",
    "\n",
    "ax[1].pcolormesh(cell_mask_r)\n",
    "ax[1].quiver(size/2,size/2,np.sqrt(d_x**2+d_y**2),0, color='r', scale=50)\n",
    "\n",
    "# equal aspect ratio\n",
    "ax[0].set_aspect('equal', adjustable='box')\n",
    "ax[1].set_aspect('equal', adjustable='box')\n",
    "ax[0].set_xlim(0,size)\n",
    "ax[0].set_ylim(0,size)\n",
    "ax[1].set_xlim(0,size)\n",
    "ax[1].set_ylim(0,size)\n"
   ]
  }
 ],
 "metadata": {
  "kernelspec": {
   "display_name": "Python 3.9.10 ('base')",
   "language": "python",
   "name": "python3"
  },
  "language_info": {
   "codemirror_mode": {
    "name": "ipython",
    "version": 3
   },
   "file_extension": ".py",
   "mimetype": "text/x-python",
   "name": "python",
   "nbconvert_exporter": "python",
   "pygments_lexer": "ipython3",
   "version": "3.9.10"
  },
  "orig_nbformat": 4,
  "vscode": {
   "interpreter": {
    "hash": "1bf010b0202c1151420e0654723f79d31be1b128a4b9297e5c54ea40751717df"
   }
  }
 },
 "nbformat": 4,
 "nbformat_minor": 2
}
