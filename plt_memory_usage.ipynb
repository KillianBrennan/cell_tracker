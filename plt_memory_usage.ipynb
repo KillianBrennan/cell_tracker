{
 "cells": [
  {
   "cell_type": "code",
   "execution_count": 308,
   "metadata": {},
   "outputs": [],
   "source": [
    "import numpy as np\n",
    "import matplotlib.pyplot as plt\n",
    "import pandas as pd"
   ]
  },
  {
   "cell_type": "code",
   "execution_count": 309,
   "metadata": {},
   "outputs": [],
   "source": [
    "def load_mprofile(path):\n",
    "    df = pd.read_csv(path,skiprows=1,delim_whitespace=True,header=None)\n",
    "\n",
    "    # delete the first column\n",
    "    df = df.drop(df.columns[0],axis=1)\n",
    "\n",
    "    # rename the columns\n",
    "    df.columns = ['memory','time']\n",
    "\n",
    "    # make time relative to the start\n",
    "    df['time'] = df['time'] - df['time'].min()\n",
    "\n",
    "    # convert to GB\n",
    "    df['memory'] = df['memory'] *0.00104858\n",
    "\n",
    "    # smooth over n points\n",
    "    # n = 1000\n",
    "    # df['memory'] = df['memory'].rolling(window=n).mean()\n",
    "\n",
    "    return df"
   ]
  },
  {
   "cell_type": "code",
   "execution_count": 310,
   "metadata": {},
   "outputs": [
    {
     "name": "stdout",
     "output_type": "stream",
     "text": [
      "a reduction from 27.81 to 28.21 GB in memory usage was achieved which is a -1.5% reduction\n"
     ]
    }
   ],
   "source": [
    "new = load_mprofile('/home/kbrennan/cell_tracker/mprofile_20240419085634.dat')\n",
    "old = load_mprofile('/home/kbrennan/cell_tracker/mprofile_20240419085556.dat')\n",
    "hail = load_mprofile('/home/kbrennan/cell_tracker/mprofile_20240419084453.dat')\n",
    "print(f'a reduction from {old.memory.max():.2f} to {new.memory.max():.2f} GB in memory usage was achieved which is a {100*(old.memory.max()-new.memory.max())/old.memory.max():.1f}% reduction')"
   ]
  },
  {
   "cell_type": "code",
   "execution_count": 311,
   "metadata": {},
   "outputs": [
    {
     "data": {
      "image/png": "[encoded data removed]",
      "text/plain": [
       "<Figure size 432x288 with 1 Axes>"
      ]
     },
     "metadata": {
      "needs_background": "light"
     },
     "output_type": "display_data"
    }
   ],
   "source": [
    "plt.plot(new.time,new.memory,label='new')\n",
    "plt.plot(old.time,old.memory,label='old')\n",
    "plt.plot(hail.time,hail.memory,label='hail')\n",
    "plt.legend()\n",
    "plt.ylabel('memory usage (GB)')\n",
    "plt.xlabel('runtime (s)')\n",
    "plt.grid()\n",
    "# plt.yscale('log')"
   ]
  }
 ],
 "metadata": {
  "kernelspec": {
   "display_name": "base",
   "language": "python",
   "name": "python3"
  },
  "language_info": {
   "codemirror_mode": {
    "name": "ipython",
    "version": 3
   },
   "file_extension": ".py",
   "mimetype": "text/x-python",
   "name": "python",
   "nbconvert_exporter": "python",
   "pygments_lexer": "ipython3",
   "version": "3.9.10"
  }
 },
 "nbformat": 4,
 "nbformat_minor": 2
}
